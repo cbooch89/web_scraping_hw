{
 "cells": [
  {
   "cell_type": "markdown",
   "metadata": {},
   "source": [
    "Step 1.A - Scraping for Headline info"
   ]
  },
  {
   "cell_type": "code",
   "execution_count": 9,
   "metadata": {},
   "outputs": [],
   "source": [
    "#dependencies\n",
    "from splinter import Browser\n",
    "from bs4 import BeautifulSoup\n",
    "import time \n",
    "import pandas as pd\n",
    "import requests"
   ]
  },
  {
   "cell_type": "code",
   "execution_count": 10,
   "metadata": {},
   "outputs": [],
   "source": [
    "#chromdriver\n",
    "executable_path = {'executable_path': 'chromedriver.exe'}\n",
    "browser = Browser('chrome', **executable_path, headless=False)"
   ]
  },
  {
   "cell_type": "code",
   "execution_count": 11,
   "metadata": {},
   "outputs": [],
   "source": [
    "#URL AND BS\n",
    "url = \"https://mars.nasa.gov/news/\"\n",
    "browser.visit(url)\n",
    "time.sleep(1)\n",
    "html = browser.html\n",
    "soup = BeautifulSoup(html,'html.parser')"
   ]
  },
  {
   "cell_type": "code",
   "execution_count": 12,
   "metadata": {},
   "outputs": [
    {
     "name": "stdout",
     "output_type": "stream",
     "text": [
      "[<div class=\"content_title\"><a href=\"/news/8508/nasa-invites-students-to-name-mars-2020-rover/\" target=\"_self\">NASA Invites Students to Name Mars 2020 Rover</a></div>, <div class=\"content_title\"><a href=\"/news/8507/nasas-mars-helicopter-attached-to-mars-2020-rover/\" target=\"_self\">NASA's Mars Helicopter Attached to Mars 2020 Rover </a></div>, <div class=\"content_title\"><a href=\"/news/8506/whats-mars-solar-conjunction-and-why-does-it-matter/\" target=\"_self\">What's Mars Solar Conjunction, and Why Does It Matter?</a></div>, <div class=\"content_title\"><a href=\"/news/8505/scientists-explore-outback-as-testbed-for-mars/\" target=\"_self\">Scientists Explore Outback as Testbed for Mars </a></div>, <div class=\"content_title\"><a href=\"/news/8504/nasa-jpl-names-rolling-stones-rock-on-mars/\" target=\"_self\">NASA-JPL Names 'Rolling Stones Rock' on Mars</a></div>, <div class=\"content_title\"><a href=\"/news/8503/robotic-toolkit-added-to-nasas-mars-2020-rover/\" target=\"_self\">Robotic Toolkit Added to NASA's Mars 2020 Rover</a></div>, <div class=\"content_title\"><a href=\"/news/8502/space-samples-link-nasas-apollo-11-and-mars-2020/\" target=\"_self\">Space Samples Link NASA's Apollo 11 and Mars 2020</a></div>, <div class=\"content_title\"><a href=\"/news/8501/small-satellite-mission-of-the-year/\" target=\"_self\">Small Satellite Mission of the Year</a></div>, <div class=\"content_title\"><a href=\"/news/8499/nasa-optometrists-verify-mars-2020-rovers-2020-vision/\" target=\"_self\">NASA 'Optometrists' Verify Mars 2020 Rover's 20/20 Vision</a></div>, <div class=\"content_title\"><a href=\"/news/8498/new-finds-for-mars-rover-seven-years-after-landing/\" target=\"_self\">New Finds for Mars Rover, Seven Years After Landing</a></div>, <div class=\"content_title\"><a href=\"/news/8497/medli2-installation-on-mars-2020-aeroshell-begins/\" target=\"_self\">MEDLI2 Installation on Mars 2020 Aeroshell Begins</a></div>, <div class=\"content_title\"><a href=\"/news/8496/nasas-mars-2020-rover-does-biceps-curls/\" target=\"_self\">NASA's Mars 2020 Rover Does Biceps Curls </a></div>, <div class=\"content_title\"><a href=\"/news/8495/fueling-of-nasas-mars-2020-rover-power-system-begins/\" target=\"_self\">Fueling of NASA's Mars 2020 Rover Power System Begins</a></div>, <div class=\"content_title\"><a href=\"/news/8494/what-does-a-marsquake-look-like/\" target=\"_self\">What Does a Marsquake Look Like?</a></div>, <div class=\"content_title\"><a href=\"/news/8461/mars-2020-rover-t-minus-one-year-and-counting/\" target=\"_self\">Mars 2020 Rover: T-Minus One Year and Counting </a></div>, <div class=\"content_title\"><a href=\"/news/8460/nasa-racks-up-two-emmy-nominations-for-mission-coverage/\" target=\"_self\">NASA Racks Up Two Emmy Nominations for Mission Coverage</a></div>, <div class=\"content_title\"><a href=\"/news/8459/want-to-colonize-mars-aerogel-could-help/\" target=\"_self\">Want to Colonize Mars? Aerogel Could Help</a></div>, <div class=\"content_title\"><a href=\"/news/8458/a-rover-pit-stop-at-jpl/\" target=\"_self\">A Rover Pit Stop at JPL</a></div>, <div class=\"content_title\"><a href=\"/news/8457/mars-2020-rover-gets-a-super-instrument/\" target=\"_self\">Mars 2020 Rover Gets a Super Instrument</a></div>, <div class=\"content_title\"><a href=\"/news/8456/a-neil-armstrong-for-mars-landing-the-mars-2020-rover/\" target=\"_self\">A Neil Armstrong for Mars: Landing the Mars 2020 Rover</a></div>, <div class=\"content_title\"><a href=\"/news/8455/nasas-insight-uncovers-the-mole/\" target=\"_self\">NASA's InSight Uncovers the 'Mole' </a></div>, <div class=\"content_title\"><a href=\"/news/8454/mars-2020-rovers-7-foot-long-robotic-arm-installed/\" target=\"_self\">Mars 2020 Rover's 7-Foot-Long Robotic Arm Installed</a></div>, <div class=\"content_title\"><a href=\"/news/8453/nasa-selects-partners-for-mars-2020-name-the-rover-contest-seeks-judges/\" target=\"_self\">NASA Selects Partners for Mars 2020 'Name the Rover' Contest, Seeks Judges</a></div>, <div class=\"content_title\"><a href=\"/news/8452/curiositys-mars-methane-mystery-continues/\" target=\"_self\">Curiosity's Mars Methane Mystery Continues</a></div>, <div class=\"content_title\"><a href=\"/news/8451/mars-2020-rover-gets-its-wheels/\" target=\"_self\">Mars 2020 Rover Gets Its Wheels</a></div>, <div class=\"content_title\"><a href=\"/news/8450/the-mast-is-raised-for-nasas-mars-2020-rover/\" target=\"_self\">The Mast Is Raised for NASA's Mars 2020 Rover</a></div>, <div class=\"content_title\"><a href=\"/news/8449/nasas-mars-2020-will-blaze-a-trail-for-humans/\" target=\"_self\">NASA's Mars 2020 Will Blaze a Trail — for Humans</a></div>, <div class=\"content_title\"><a href=\"/news/8448/johnson-built-device-to-help-mars-2020-rover-search-for-signs-of-life/\" target=\"_self\">Johnson-Built Device to Help Mars 2020 Rover Search for Signs of Life</a></div>, <div class=\"content_title\"><a href=\"/news/8447/watch-nasa-build-its-next-mars-rover/\" target=\"_self\">Watch NASA Build Its Next Mars Rover</a></div>, <div class=\"content_title\"><a href=\"/news/8446/nasas-mars-helicopter-testing-enters-final-phase/\" target=\"_self\">NASA's Mars Helicopter Testing Enters Final Phase</a></div>, <div class=\"content_title\"><a href=\"/news/8445/insights-team-tries-new-strategy-to-help-the-mole/\" target=\"_self\">InSight's Team Tries New Strategy to Help the 'Mole'</a></div>, <div class=\"content_title\"><a href=\"/news/8444/common-questions-about-insights-mole/\" target=\"_self\">Common Questions about InSight's 'Mole'</a></div>, <div class=\"content_title\"><a href=\"/news/8442/nasas-curiosity-mars-rover-finds-a-clay-cache/\" target=\"_self\">NASA's Curiosity Mars Rover Finds a Clay Cache</a></div>, <div class=\"content_title\"><a href=\"/news/8443/nasa-to-land-in-mars-pennsylvania-to-celebrate-red-planet-with-steam/\" target=\"_self\">NASA to Land in Mars, Pennsylvania to Celebrate Red Planet with STEAM</a></div>, <div class=\"content_title\"><a href=\"/news/8441/nasas-mars-2020-gets-a-dose-of-space-here-on-earth/\" target=\"_self\">NASA's Mars 2020 Gets a Dose of Space Here on Earth</a></div>, <div class=\"content_title\"><a href=\"/news/8440/nasa-invites-public-to-submit-names-to-fly-aboard-next-mars-rover/\" target=\"_self\">NASA Invites Public to Submit Names to Fly Aboard Next Mars Rover</a></div>, <div class=\"content_title\"><a href=\"/news/8438/nasas-mro-completes-60000-trips-around-mars/\" target=\"_self\">NASA's MRO Completes 60,000 Trips Around Mars</a></div>, <div class=\"content_title\"><a href=\"/news/8437/video-fly-over-mount-sharp-on-mars/\" target=\"_self\">Video: Fly over Mount Sharp on Mars</a></div>, <div class=\"content_title\"><a href=\"/news/8436/why-this-martian-full-moon-looks-like-candy/\" target=\"_self\">Why This Martian Full Moon Looks Like Candy</a></div>, <div class=\"content_title\"><a href=\"/news/8433/for-insight-dust-cleanings-will-yield-new-science/\" target=\"_self\">For InSight, Dust Cleanings Will Yield New Science</a></div>, <div class=\"content_title\">\n",
      "<a href=\"/news/8426/nasa-garners-7-webby-award-nominations/\">\n",
      "NASA Garners 7 Webby Award Nominations\n",
      "</a>\n",
      "</div>, <div class=\"content_title\">\n",
      "<a href=\"/news/8413/nasas-opportunity-rover-mission-on-mars-comes-to-end/\">\n",
      "NASA's Opportunity Rover Mission on Mars Comes to End\n",
      "</a>\n",
      "</div>, <div class=\"content_title\">\n",
      "<a href=\"/news/8402/nasas-insight-places-first-instrument-on-mars/\">\n",
      "NASA's InSight Places First Instrument on Mars\n",
      "</a>\n",
      "</div>, <div class=\"content_title\">\n",
      "<a href=\"/news/8508/nasa-invites-students-to-name-mars-2020-rover/\">\n",
      "NASA Invites Students to Name Mars 2020 Rover\n",
      "</a>\n",
      "</div>, <div class=\"content_title\">\n",
      "<a href=\"/news/8442/nasas-curiosity-mars-rover-finds-a-clay-cache/\">\n",
      "NASA's Curiosity Mars Rover Finds a Clay Cache\n",
      "</a>\n",
      "</div>, <div class=\"content_title\">\n",
      "<a href=\"/news/8436/why-this-martian-full-moon-looks-like-candy/\">\n",
      "Why This Martian Full Moon Looks Like Candy\n",
      "</a>\n",
      "</div>, <div class=\"content_title\">\n",
      "<a href=\"/news/8426/nasa-garners-7-webby-award-nominations/\">\n",
      "NASA Garners 7 Webby Award Nominations\n",
      "</a>\n",
      "</div>, <div class=\"content_title\">\n",
      "<a href=\"/news/8413/nasas-opportunity-rover-mission-on-mars-comes-to-end/\">\n",
      "NASA's Opportunity Rover Mission on Mars Comes to End\n",
      "</a>\n",
      "</div>, <div class=\"content_title\">\n",
      "<a href=\"/news/8402/nasas-insight-places-first-instrument-on-mars/\">\n",
      "NASA's InSight Places First Instrument on Mars\n",
      "</a>\n",
      "</div>, <div class=\"content_title\">\n",
      "<a href=\"/news/8508/nasa-invites-students-to-name-mars-2020-rover/\">\n",
      "NASA Invites Students to Name Mars 2020 Rover\n",
      "</a>\n",
      "</div>, <div class=\"content_title\">\n",
      "<a href=\"/news/8442/nasas-curiosity-mars-rover-finds-a-clay-cache/\">\n",
      "NASA's Curiosity Mars Rover Finds a Clay Cache\n",
      "</a>\n",
      "</div>, <div class=\"content_title\">\n",
      "<a href=\"/news/8436/why-this-martian-full-moon-looks-like-candy/\">\n",
      "Why This Martian Full Moon Looks Like Candy\n",
      "</a>\n",
      "</div>]\n"
     ]
    }
   ],
   "source": [
    "# find news headlines \n",
    "headlines = soup.find_all('div', class_=\"content_title\")\n",
    "print(headlines)"
   ]
  },
  {
   "cell_type": "code",
   "execution_count": 13,
   "metadata": {},
   "outputs": [],
   "source": [
    "# pargraph info in body\n",
    "article_body = soup.find_all('div', class_=\"rollover_description\")\n",
    "#print(article_body)"
   ]
  },
  {
   "cell_type": "code",
   "execution_count": 14,
   "metadata": {},
   "outputs": [
    {
     "name": "stdout",
     "output_type": "stream",
     "text": [
      "----------------\n",
      "Title of Article: \n",
      "NASA Garners 7 Webby Award Nominations\n",
      "\n",
      "Article snippit: \n",
      "Nominees include four JPL projects: the solar system and climate websites, InSight social media, and a 360-degree Earth video. Public voting closes April 18, 2019.\n",
      "\n",
      "----------------\n",
      "Title of Article: \n",
      "NASA's Opportunity Rover Mission on Mars Comes to End\n",
      "\n",
      "Article snippit: \n",
      "NASA's Opportunity Mars rover mission is complete after 15 years on Mars. Opportunity's record-breaking exploration laid the groundwork for future missions to the Red Planet.\n",
      "\n",
      "----------------\n",
      "Title of Article: \n",
      "NASA's InSight Places First Instrument on Mars\n",
      "\n",
      "Article snippit: \n",
      "In deploying its first instrument onto the surface of Mars, the lander completes a major mission milestone.\n",
      "\n",
      "----------------\n",
      "Title of Article: \n",
      "NASA Invites Students to Name Mars 2020 Rover\n",
      "\n",
      "Article snippit: \n",
      "Through Nov. 1, K-12 students in the U.S. are encouraged to enter an essay contest to name NASA's next Mars rover.\n",
      "\n",
      "----------------\n",
      "Title of Article: \n",
      "NASA's Curiosity Mars Rover Finds a Clay Cache\n",
      "\n",
      "Article snippit: \n",
      "The rover recently drilled two samples, and both showed the highest levels of clay ever found during the mission.\n",
      "\n",
      "----------------\n",
      "Title of Article: \n",
      "Why This Martian Full Moon Looks Like Candy\n",
      "\n",
      "Article snippit: \n",
      "For the first time, NASA's Mars Odyssey orbiter has caught the Martian moon Phobos during a full moon phase. Each color in this new image represents a temperature range detected by Odyssey's infrared camera.\n",
      "\n",
      "----------------\n",
      "Title of Article: \n",
      "NASA Garners 7 Webby Award Nominations\n",
      "\n",
      "Article snippit: \n",
      "Nominees include four JPL projects: the solar system and climate websites, InSight social media, and a 360-degree Earth video. Public voting closes April 18, 2019.\n",
      "\n",
      "----------------\n",
      "Title of Article: \n",
      "NASA's Opportunity Rover Mission on Mars Comes to End\n",
      "\n",
      "Article snippit: \n",
      "NASA's Opportunity Mars rover mission is complete after 15 years on Mars. Opportunity's record-breaking exploration laid the groundwork for future missions to the Red Planet.\n",
      "\n",
      "----------------\n",
      "Title of Article: \n",
      "NASA's InSight Places First Instrument on Mars\n",
      "\n",
      "Article snippit: \n",
      "In deploying its first instrument onto the surface of Mars, the lander completes a major mission milestone.\n",
      "\n",
      "----------------\n",
      "Title of Article: \n",
      "NASA Invites Students to Name Mars 2020 Rover\n",
      "\n",
      "Article snippit: \n",
      "Through Nov. 1, K-12 students in the U.S. are encouraged to enter an essay contest to name NASA's next Mars rover.\n",
      "\n",
      "----------------\n",
      "Title of Article: \n",
      "NASA's Curiosity Mars Rover Finds a Clay Cache\n",
      "\n",
      "Article snippit: \n",
      "The rover recently drilled two samples, and both showed the highest levels of clay ever found during the mission.\n",
      "\n",
      "----------------\n",
      "Title of Article: \n",
      "Why This Martian Full Moon Looks Like Candy\n",
      "\n",
      "Article snippit: \n",
      "For the first time, NASA's Mars Odyssey orbiter has caught the Martian moon Phobos during a full moon phase. Each color in this new image represents a temperature range detected by Odyssey's infrared camera.\n",
      "\n"
     ]
    }
   ],
   "source": [
    "#lastest neww with title and info\n",
    "results = soup.find_all('div', class_=\"slide\")\n",
    "\n",
    "for result in results:\n",
    "    headlines = result.find('div', class_=\"content_title\")\n",
    "    title = headlines.find('a').text\n",
    "    \n",
    "    article_body = result.find('div', class_=\"rollover_description\")\n",
    "    body = article_body.find('div', class_=\"rollover_description_inner\").text\n",
    "    \n",
    "    print('----------------')\n",
    "    print(\"Title of Article:\" , title)\n",
    "    print(\"Article snippit:\" , body)"
   ]
  },
  {
   "cell_type": "markdown",
   "metadata": {},
   "source": [
    "Step 1.B - Pulling images"
   ]
  },
  {
   "cell_type": "code",
   "execution_count": 15,
   "metadata": {},
   "outputs": [],
   "source": [
    "# URL and B.S\n",
    "url_mars_pic = \"https://www.jpl.nasa.gov/spaceimages/?search=&category=Mars\"\n",
    "browser.visit(url_mars_pic)\n",
    "time.sleep(1)\n",
    "html = browser.html\n",
    "soup = BeautifulSoup(html,'html.parser')"
   ]
  },
  {
   "cell_type": "code",
   "execution_count": 16,
   "metadata": {},
   "outputs": [],
   "source": [
    "# pull images from website\n",
    "images = soup.find_all('a', class_=\"fancybox\")\n",
    "#print (images)"
   ]
  },
  {
   "cell_type": "code",
   "execution_count": 17,
   "metadata": {},
   "outputs": [
    {
     "name": "stdout",
     "output_type": "stream",
     "text": [
      "Feature Image URL: https://www.jpl.nasa.gov/spaceimages/images/largesize/PIA23367_hires.jpg\n"
     ]
    }
   ],
   "source": [
    "#new featured image from site\n",
    "featured_image_list = []\n",
    "\n",
    "for image in images:\n",
    "    full_size = image['data-fancybox-href']\n",
    "    featured_image_list.append(full_size)\n",
    "featured_image_url = 'https://www.jpl.nasa.gov' + full_size\n",
    "#featured_image_list\n",
    "\n",
    "#Just one image link\n",
    "print(\"Feature Image URL:\", featured_image_url)"
   ]
  },
  {
   "cell_type": "markdown",
   "metadata": {},
   "source": [
    "Step 1.C - Get Weather from Twitter"
   ]
  },
  {
   "cell_type": "code",
   "execution_count": 18,
   "metadata": {},
   "outputs": [],
   "source": [
    "url_Weather = \"https://twitter.com/marswxreport?lang=en\"\n",
    "response = requests.get(url_Weather)\n",
    "soup = BeautifulSoup(response.text, 'html.parser')\n",
    "\n",
    "weather = soup.find_all(\"div\",class_=\"js-tweet-text-container\")\n",
    "\n",
    "mars_weather = []\n",
    "for content in weather:\n",
    "    info = content.find(\"p\", class_=\"TweetTextSize TweetTextSize--normal js-tweet-text tweet-text\").text\n",
    "    mars_weather.append(info)\n",
    "    #print(mars_weather)\n"
   ]
  },
  {
   "cell_type": "code",
   "execution_count": 19,
   "metadata": {},
   "outputs": [
    {
     "name": "stdout",
     "output_type": "stream",
     "text": [
      "We won’t be hearing from @MarsCuriosity or @NASAInSight for the next 2 weeks during Mars solar conjunction. Read more about why Mars missions go silent every 2 years: https://www.wral.com/mars-spacecraft-go-quiet-during-solar-conjunction/18595551/ …pic.twitter.com/fWruE2v151\n"
     ]
    }
   ],
   "source": [
    "current_weather= mars_weather[0]\n",
    "print (current_weather)"
   ]
  },
  {
   "cell_type": "markdown",
   "metadata": {},
   "source": [
    "Step 1.D - Mars Facts"
   ]
  },
  {
   "cell_type": "code",
   "execution_count": 20,
   "metadata": {},
   "outputs": [
    {
     "data": {
      "text/html": [
       "<div>\n",
       "<style scoped>\n",
       "    .dataframe tbody tr th:only-of-type {\n",
       "        vertical-align: middle;\n",
       "    }\n",
       "\n",
       "    .dataframe tbody tr th {\n",
       "        vertical-align: top;\n",
       "    }\n",
       "\n",
       "    .dataframe thead th {\n",
       "        text-align: right;\n",
       "    }\n",
       "</style>\n",
       "<table border=\"1\" class=\"dataframe\">\n",
       "  <thead>\n",
       "    <tr style=\"text-align: right;\">\n",
       "      <th></th>\n",
       "      <th>Mars - Earth Comparison</th>\n",
       "      <th>Mars</th>\n",
       "      <th>Earth</th>\n",
       "    </tr>\n",
       "  </thead>\n",
       "  <tbody>\n",
       "    <tr>\n",
       "      <th>0</th>\n",
       "      <td>Diameter:</td>\n",
       "      <td>6,779 km</td>\n",
       "      <td>12,742 km</td>\n",
       "    </tr>\n",
       "    <tr>\n",
       "      <th>1</th>\n",
       "      <td>Mass:</td>\n",
       "      <td>6.39 × 10^23 kg</td>\n",
       "      <td>5.97 × 10^24 kg</td>\n",
       "    </tr>\n",
       "    <tr>\n",
       "      <th>2</th>\n",
       "      <td>Moons:</td>\n",
       "      <td>2</td>\n",
       "      <td>1</td>\n",
       "    </tr>\n",
       "    <tr>\n",
       "      <th>3</th>\n",
       "      <td>Distance from Sun:</td>\n",
       "      <td>227,943,824 km</td>\n",
       "      <td>149,598,262 km</td>\n",
       "    </tr>\n",
       "    <tr>\n",
       "      <th>4</th>\n",
       "      <td>Length of Year:</td>\n",
       "      <td>687 Earth days</td>\n",
       "      <td>365.24 days</td>\n",
       "    </tr>\n",
       "    <tr>\n",
       "      <th>5</th>\n",
       "      <td>Temperature:</td>\n",
       "      <td>-153 to 20 °C</td>\n",
       "      <td>-88 to 58°C</td>\n",
       "    </tr>\n",
       "  </tbody>\n",
       "</table>\n",
       "</div>"
      ],
      "text/plain": [
       "  Mars - Earth Comparison             Mars            Earth\n",
       "0               Diameter:         6,779 km        12,742 km\n",
       "1                   Mass:  6.39 × 10^23 kg  5.97 × 10^24 kg\n",
       "2                  Moons:                2                1\n",
       "3      Distance from Sun:   227,943,824 km   149,598,262 km\n",
       "4         Length of Year:   687 Earth days      365.24 days\n",
       "5            Temperature:    -153 to 20 °C      -88 to 58°C"
      ]
     },
     "execution_count": 20,
     "metadata": {},
     "output_type": "execute_result"
    }
   ],
   "source": [
    "#URL to DF\n",
    "df_facts = \"https://space-facts.com/mars/\"\n",
    "table = pd.read_html(df_facts)\n",
    "table[0]"
   ]
  },
  {
   "cell_type": "code",
   "execution_count": 21,
   "metadata": {},
   "outputs": [
    {
     "data": {
      "text/html": [
       "<div>\n",
       "<style scoped>\n",
       "    .dataframe tbody tr th:only-of-type {\n",
       "        vertical-align: middle;\n",
       "    }\n",
       "\n",
       "    .dataframe tbody tr th {\n",
       "        vertical-align: top;\n",
       "    }\n",
       "\n",
       "    .dataframe thead th {\n",
       "        text-align: right;\n",
       "    }\n",
       "</style>\n",
       "<table border=\"1\" class=\"dataframe\">\n",
       "  <thead>\n",
       "    <tr style=\"text-align: right;\">\n",
       "      <th></th>\n",
       "      <th>Mars - Earth Comparison</th>\n",
       "      <th>Mars</th>\n",
       "      <th>Earth</th>\n",
       "    </tr>\n",
       "  </thead>\n",
       "  <tbody>\n",
       "    <tr>\n",
       "      <th>0</th>\n",
       "      <td>Diameter:</td>\n",
       "      <td>6,779 km</td>\n",
       "      <td>12,742 km</td>\n",
       "    </tr>\n",
       "    <tr>\n",
       "      <th>1</th>\n",
       "      <td>Mass:</td>\n",
       "      <td>6.39 × 10^23 kg</td>\n",
       "      <td>5.97 × 10^24 kg</td>\n",
       "    </tr>\n",
       "    <tr>\n",
       "      <th>2</th>\n",
       "      <td>Moons:</td>\n",
       "      <td>2</td>\n",
       "      <td>1</td>\n",
       "    </tr>\n",
       "    <tr>\n",
       "      <th>3</th>\n",
       "      <td>Distance from Sun:</td>\n",
       "      <td>227,943,824 km</td>\n",
       "      <td>149,598,262 km</td>\n",
       "    </tr>\n",
       "    <tr>\n",
       "      <th>4</th>\n",
       "      <td>Length of Year:</td>\n",
       "      <td>687 Earth days</td>\n",
       "      <td>365.24 days</td>\n",
       "    </tr>\n",
       "    <tr>\n",
       "      <th>5</th>\n",
       "      <td>Temperature:</td>\n",
       "      <td>-153 to 20 °C</td>\n",
       "      <td>-88 to 58°C</td>\n",
       "    </tr>\n",
       "  </tbody>\n",
       "</table>\n",
       "</div>"
      ],
      "text/plain": [
       "  Mars - Earth Comparison             Mars            Earth\n",
       "0               Diameter:         6,779 km        12,742 km\n",
       "1                   Mass:  6.39 × 10^23 kg  5.97 × 10^24 kg\n",
       "2                  Moons:                2                1\n",
       "3      Distance from Sun:   227,943,824 km   149,598,262 km\n",
       "4         Length of Year:   687 Earth days      365.24 days\n",
       "5            Temperature:    -153 to 20 °C      -88 to 58°C"
      ]
     },
     "execution_count": 21,
     "metadata": {},
     "output_type": "execute_result"
    }
   ],
   "source": [
    "#setting up table/df\n",
    "mars_table = table[0]\n",
    "mars_table.columns = ['Mars - Earth Comparison','Mars','Earth']\n",
    "mars_table.set_index(['Mars - Earth Comparison'])\n",
    "mars_table"
   ]
  },
  {
   "cell_type": "code",
   "execution_count": 23,
   "metadata": {},
   "outputs": [
    {
     "data": {
      "text/plain": [
       "'<table border=\"1\" class=\"dataframe\">  <thead>    <tr style=\"text-align: right;\">      <th></th>      <th>Mars - Earth Comparison</th>      <th>Mars</th>      <th>Earth</th>    </tr>  </thead>  <tbody>    <tr>      <th>0</th>      <td>Diameter:</td>      <td>6,779 km</td>      <td>12,742 km</td>    </tr>    <tr>      <th>1</th>      <td>Mass:</td>      <td>6.39 × 10^23 kg</td>      <td>5.97 × 10^24 kg</td>    </tr>    <tr>      <th>2</th>      <td>Moons:</td>      <td>2</td>      <td>1</td>    </tr>    <tr>      <th>3</th>      <td>Distance from Sun:</td>      <td>227,943,824 km</td>      <td>149,598,262 km</td>    </tr>    <tr>      <th>4</th>      <td>Length of Year:</td>      <td>687 Earth days</td>      <td>365.24 days</td>    </tr>    <tr>      <th>5</th>      <td>Temperature:</td>      <td>-153 to 20 °C</td>      <td>-88 to 58°C</td>    </tr>  </tbody></table>'"
      ]
     },
     "execution_count": 23,
     "metadata": {},
     "output_type": "execute_result"
    }
   ],
   "source": [
    "#html table\n",
    "mars_facts = mars_table.to_html()\n",
    "mars_facts = mars_facts.replace(\"\\n\",\"\")\n",
    "mars_facts"
   ]
  },
  {
   "cell_type": "markdown",
   "metadata": {},
   "source": [
    "Step 1.E Mars Hemispheres"
   ]
  },
  {
   "cell_type": "code",
   "execution_count": 24,
   "metadata": {},
   "outputs": [
    {
     "ename": "WebDriverException",
     "evalue": "Message: chrome not reachable\n  (Session info: chrome=76.0.3809.132)\n",
     "output_type": "error",
     "traceback": [
      "\u001b[1;31m---------------------------------------------------------------------------\u001b[0m",
      "\u001b[1;31mWebDriverException\u001b[0m                        Traceback (most recent call last)",
      "\u001b[1;32m<ipython-input-24-f5a950b338ea>\u001b[0m in \u001b[0;36m<module>\u001b[1;34m\u001b[0m\n\u001b[0;32m      1\u001b[0m \u001b[1;31m# url and BS\u001b[0m\u001b[1;33m\u001b[0m\u001b[1;33m\u001b[0m\u001b[1;33m\u001b[0m\u001b[0m\n\u001b[0;32m      2\u001b[0m \u001b[0murl_Hemi\u001b[0m \u001b[1;33m=\u001b[0m \u001b[1;34m\"https://astrogeology.usgs.gov/search/results?q=hemisphere+enhanced&k1=target&v1=Mars\"\u001b[0m\u001b[1;33m\u001b[0m\u001b[1;33m\u001b[0m\u001b[0m\n\u001b[1;32m----> 3\u001b[1;33m \u001b[0mbrowser\u001b[0m\u001b[1;33m.\u001b[0m\u001b[0mvisit\u001b[0m\u001b[1;33m(\u001b[0m\u001b[0murl_Hemi\u001b[0m\u001b[1;33m)\u001b[0m\u001b[1;33m\u001b[0m\u001b[1;33m\u001b[0m\u001b[0m\n\u001b[0m\u001b[0;32m      4\u001b[0m \u001b[0mtime\u001b[0m\u001b[1;33m.\u001b[0m\u001b[0msleep\u001b[0m\u001b[1;33m(\u001b[0m\u001b[1;36m1\u001b[0m\u001b[1;33m)\u001b[0m\u001b[1;33m\u001b[0m\u001b[1;33m\u001b[0m\u001b[0m\n\u001b[0;32m      5\u001b[0m \u001b[0mhtml\u001b[0m \u001b[1;33m=\u001b[0m \u001b[0mbrowser\u001b[0m\u001b[1;33m.\u001b[0m\u001b[0mhtml\u001b[0m\u001b[1;33m\u001b[0m\u001b[1;33m\u001b[0m\u001b[0m\n",
      "\u001b[1;32m~\\Anaconda3\\lib\\site-packages\\splinter\\driver\\webdriver\\__init__.py\u001b[0m in \u001b[0;36mvisit\u001b[1;34m(self, url)\u001b[0m\n\u001b[0;32m    210\u001b[0m \u001b[1;33m\u001b[0m\u001b[0m\n\u001b[0;32m    211\u001b[0m     \u001b[1;32mdef\u001b[0m \u001b[0mvisit\u001b[0m\u001b[1;33m(\u001b[0m\u001b[0mself\u001b[0m\u001b[1;33m,\u001b[0m \u001b[0murl\u001b[0m\u001b[1;33m)\u001b[0m\u001b[1;33m:\u001b[0m\u001b[1;33m\u001b[0m\u001b[1;33m\u001b[0m\u001b[0m\n\u001b[1;32m--> 212\u001b[1;33m         \u001b[0mself\u001b[0m\u001b[1;33m.\u001b[0m\u001b[0mdriver\u001b[0m\u001b[1;33m.\u001b[0m\u001b[0mget\u001b[0m\u001b[1;33m(\u001b[0m\u001b[0murl\u001b[0m\u001b[1;33m)\u001b[0m\u001b[1;33m\u001b[0m\u001b[1;33m\u001b[0m\u001b[0m\n\u001b[0m\u001b[0;32m    213\u001b[0m \u001b[1;33m\u001b[0m\u001b[0m\n\u001b[0;32m    214\u001b[0m     \u001b[1;32mdef\u001b[0m \u001b[0mback\u001b[0m\u001b[1;33m(\u001b[0m\u001b[0mself\u001b[0m\u001b[1;33m)\u001b[0m\u001b[1;33m:\u001b[0m\u001b[1;33m\u001b[0m\u001b[1;33m\u001b[0m\u001b[0m\n",
      "\u001b[1;32m~\\Anaconda3\\lib\\site-packages\\selenium\\webdriver\\remote\\webdriver.py\u001b[0m in \u001b[0;36mget\u001b[1;34m(self, url)\u001b[0m\n\u001b[0;32m    331\u001b[0m         \u001b[0mLoads\u001b[0m \u001b[0ma\u001b[0m \u001b[0mweb\u001b[0m \u001b[0mpage\u001b[0m \u001b[1;32min\u001b[0m \u001b[0mthe\u001b[0m \u001b[0mcurrent\u001b[0m \u001b[0mbrowser\u001b[0m \u001b[0msession\u001b[0m\u001b[1;33m.\u001b[0m\u001b[1;33m\u001b[0m\u001b[1;33m\u001b[0m\u001b[0m\n\u001b[0;32m    332\u001b[0m         \"\"\"\n\u001b[1;32m--> 333\u001b[1;33m         \u001b[0mself\u001b[0m\u001b[1;33m.\u001b[0m\u001b[0mexecute\u001b[0m\u001b[1;33m(\u001b[0m\u001b[0mCommand\u001b[0m\u001b[1;33m.\u001b[0m\u001b[0mGET\u001b[0m\u001b[1;33m,\u001b[0m \u001b[1;33m{\u001b[0m\u001b[1;34m'url'\u001b[0m\u001b[1;33m:\u001b[0m \u001b[0murl\u001b[0m\u001b[1;33m}\u001b[0m\u001b[1;33m)\u001b[0m\u001b[1;33m\u001b[0m\u001b[1;33m\u001b[0m\u001b[0m\n\u001b[0m\u001b[0;32m    334\u001b[0m \u001b[1;33m\u001b[0m\u001b[0m\n\u001b[0;32m    335\u001b[0m     \u001b[1;33m@\u001b[0m\u001b[0mproperty\u001b[0m\u001b[1;33m\u001b[0m\u001b[1;33m\u001b[0m\u001b[0m\n",
      "\u001b[1;32m~\\Anaconda3\\lib\\site-packages\\selenium\\webdriver\\remote\\webdriver.py\u001b[0m in \u001b[0;36mexecute\u001b[1;34m(self, driver_command, params)\u001b[0m\n\u001b[0;32m    319\u001b[0m         \u001b[0mresponse\u001b[0m \u001b[1;33m=\u001b[0m \u001b[0mself\u001b[0m\u001b[1;33m.\u001b[0m\u001b[0mcommand_executor\u001b[0m\u001b[1;33m.\u001b[0m\u001b[0mexecute\u001b[0m\u001b[1;33m(\u001b[0m\u001b[0mdriver_command\u001b[0m\u001b[1;33m,\u001b[0m \u001b[0mparams\u001b[0m\u001b[1;33m)\u001b[0m\u001b[1;33m\u001b[0m\u001b[1;33m\u001b[0m\u001b[0m\n\u001b[0;32m    320\u001b[0m         \u001b[1;32mif\u001b[0m \u001b[0mresponse\u001b[0m\u001b[1;33m:\u001b[0m\u001b[1;33m\u001b[0m\u001b[1;33m\u001b[0m\u001b[0m\n\u001b[1;32m--> 321\u001b[1;33m             \u001b[0mself\u001b[0m\u001b[1;33m.\u001b[0m\u001b[0merror_handler\u001b[0m\u001b[1;33m.\u001b[0m\u001b[0mcheck_response\u001b[0m\u001b[1;33m(\u001b[0m\u001b[0mresponse\u001b[0m\u001b[1;33m)\u001b[0m\u001b[1;33m\u001b[0m\u001b[1;33m\u001b[0m\u001b[0m\n\u001b[0m\u001b[0;32m    322\u001b[0m             response['value'] = self._unwrap_value(\n\u001b[0;32m    323\u001b[0m                 response.get('value', None))\n",
      "\u001b[1;32m~\\Anaconda3\\lib\\site-packages\\selenium\\webdriver\\remote\\errorhandler.py\u001b[0m in \u001b[0;36mcheck_response\u001b[1;34m(self, response)\u001b[0m\n\u001b[0;32m    240\u001b[0m                 \u001b[0malert_text\u001b[0m \u001b[1;33m=\u001b[0m \u001b[0mvalue\u001b[0m\u001b[1;33m[\u001b[0m\u001b[1;34m'alert'\u001b[0m\u001b[1;33m]\u001b[0m\u001b[1;33m.\u001b[0m\u001b[0mget\u001b[0m\u001b[1;33m(\u001b[0m\u001b[1;34m'text'\u001b[0m\u001b[1;33m)\u001b[0m\u001b[1;33m\u001b[0m\u001b[1;33m\u001b[0m\u001b[0m\n\u001b[0;32m    241\u001b[0m             \u001b[1;32mraise\u001b[0m \u001b[0mexception_class\u001b[0m\u001b[1;33m(\u001b[0m\u001b[0mmessage\u001b[0m\u001b[1;33m,\u001b[0m \u001b[0mscreen\u001b[0m\u001b[1;33m,\u001b[0m \u001b[0mstacktrace\u001b[0m\u001b[1;33m,\u001b[0m \u001b[0malert_text\u001b[0m\u001b[1;33m)\u001b[0m\u001b[1;33m\u001b[0m\u001b[1;33m\u001b[0m\u001b[0m\n\u001b[1;32m--> 242\u001b[1;33m         \u001b[1;32mraise\u001b[0m \u001b[0mexception_class\u001b[0m\u001b[1;33m(\u001b[0m\u001b[0mmessage\u001b[0m\u001b[1;33m,\u001b[0m \u001b[0mscreen\u001b[0m\u001b[1;33m,\u001b[0m \u001b[0mstacktrace\u001b[0m\u001b[1;33m)\u001b[0m\u001b[1;33m\u001b[0m\u001b[1;33m\u001b[0m\u001b[0m\n\u001b[0m\u001b[0;32m    243\u001b[0m \u001b[1;33m\u001b[0m\u001b[0m\n\u001b[0;32m    244\u001b[0m     \u001b[1;32mdef\u001b[0m \u001b[0m_value_or_default\u001b[0m\u001b[1;33m(\u001b[0m\u001b[0mself\u001b[0m\u001b[1;33m,\u001b[0m \u001b[0mobj\u001b[0m\u001b[1;33m,\u001b[0m \u001b[0mkey\u001b[0m\u001b[1;33m,\u001b[0m \u001b[0mdefault\u001b[0m\u001b[1;33m)\u001b[0m\u001b[1;33m:\u001b[0m\u001b[1;33m\u001b[0m\u001b[1;33m\u001b[0m\u001b[0m\n",
      "\u001b[1;31mWebDriverException\u001b[0m: Message: chrome not reachable\n  (Session info: chrome=76.0.3809.132)\n"
     ]
    }
   ],
   "source": [
    "# url and BS\n",
    "url_Hemi = \"https://astrogeology.usgs.gov/search/results?q=hemisphere+enhanced&k1=target&v1=Mars\"\n",
    "browser.visit(url_Hemi)\n",
    "time.sleep(1)\n",
    "html = browser.html\n",
    "soup = BeautifulSoup(html,'html.parser')"
   ]
  },
  {
   "cell_type": "code",
   "execution_count": null,
   "metadata": {},
   "outputs": [],
   "source": [
    "#creating hemi image title list and pulling from site\n",
    "hemi_title_list = []\n",
    "\n",
    "for img_title in soup.find_all('div',class_=\"description\"):\n",
    "    hemi_title_list.append(img_title.find('h3').text)\n",
    "hemi_title_list"
   ]
  },
  {
   "cell_type": "code",
   "execution_count": null,
   "metadata": {},
   "outputs": [],
   "source": [
    "#creating hemi url list for images and pulling thumbnail url from site\n",
    "hemi_thumb_img_list=[]\n",
    "\n",
    "for image in soup.find_all('div', class_='item'):\n",
    "    url = \"https://astrogeology.usgs.gov/\"\n",
    "    hemi_thumb_img_list.append(url + image.find('img').get('src'))\n",
    "hemi_thumb_img_list"
   ]
  },
  {
   "cell_type": "code",
   "execution_count": 212,
   "metadata": {},
   "outputs": [
    {
     "data": {
      "text/plain": [
       "['https://astrogeology.usgs.gov//cache/images/dfaf3849e74bf973b59eb50dab52b583_cerberus_enhanced.tif/full.jpg',\n",
       " 'https://astrogeology.usgs.gov//cache/images/7677c0a006b83871b5a2f66985ab5857_schiaparelli_enhanced.tif/full.jpg',\n",
       " 'https://astrogeology.usgs.gov//cache/images/aae41197e40d6d4f3ea557f8cfe51d15_syrtis_major_enhanced.tif/full.jpg',\n",
       " 'https://astrogeology.usgs.gov//cache/images/04085d99ec3713883a9a57f42be9c725_valles_marineris_enhanced.tif/full.jpg']"
      ]
     },
     "execution_count": 212,
     "metadata": {},
     "output_type": "execute_result"
    }
   ],
   "source": [
    "#stripping thumbnail and adding full image tag\n",
    "full_img_list=[]\n",
    "for all_url in hemi_thumb_img_list:\n",
    "    split_thumb= all_url.split('.tif_thumb.png')[0]\n",
    "    full_tag = split_thumb+'.tif/full.jpg'\n",
    "    full_img_list.append(full_tag)\n",
    "full_img_list"
   ]
  },
  {
   "cell_type": "code",
   "execution_count": 216,
   "metadata": {},
   "outputs": [
    {
     "data": {
      "text/plain": [
       "[{'title': 'Valles Marineris Hemisphere',\n",
       "  'img_url': 'https://astrogeology.usgs.gov//cache/images/04085d99ec3713883a9a57f42be9c725_valles_marineris_enhanced.tif/full.jpg'},\n",
       " {'title': 'Cerberus Hemisphere',\n",
       "  'img_url': 'https://astrogeology.usgs.gov//cache/images/dfaf3849e74bf973b59eb50dab52b583_cerberus_enhanced.tif/full.jpg'},\n",
       " {'title': 'Schiaparelli Hemisphere',\n",
       "  'img_url': 'https://astrogeology.usgs.gov//cache/images/7677c0a006b83871b5a2f66985ab5857_schiaparelli_enhanced.tif/full.jpg'},\n",
       " {'title': 'Syrtis Major Hemisphere',\n",
       "  'img_url': 'https://astrogeology.usgs.gov//cache/images/aae41197e40d6d4f3ea557f8cfe51d15_syrtis_major_enhanced.tif/full.jpg'}]"
      ]
     },
     "execution_count": 216,
     "metadata": {},
     "output_type": "execute_result"
    }
   ],
   "source": [
    "mars_hemi_info = [\n",
    "    {\"title\": \"Valles Marineris Hemisphere\", \"img_url\": full_img_list[3]},\n",
    "    {\"title\": \"Cerberus Hemisphere\", \"img_url\": full_img_list[0]},\n",
    "    {\"title\": \"Schiaparelli Hemisphere\", \"img_url\": full_img_list[1]},\n",
    "    {\"title\": \"Syrtis Major Hemisphere\", \"img_url\": full_img_list[2]},\n",
    "]\n",
    "mars_hemi_info"
   ]
  }
 ],
 "metadata": {
  "kernelspec": {
   "display_name": "Python 3",
   "language": "python",
   "name": "python3"
  },
  "language_info": {
   "codemirror_mode": {
    "name": "ipython",
    "version": 3
   },
   "file_extension": ".py",
   "mimetype": "text/x-python",
   "name": "python",
   "nbconvert_exporter": "python",
   "pygments_lexer": "ipython3",
   "version": "3.7.3"
  }
 },
 "nbformat": 4,
 "nbformat_minor": 2
}
